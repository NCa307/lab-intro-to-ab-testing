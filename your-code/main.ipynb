{
 "cells": [
  {
   "cell_type": "markdown",
   "id": "392405cd",
   "metadata": {},
   "source": [
    "# LAB | A/B Testing in Python"
   ]
  },
  {
   "cell_type": "markdown",
   "id": "14cf8128",
   "metadata": {},
   "source": [
    "### Challenge 1: 🚀 *Comparing Two Website Versions Using Hypothesis Testing*  "
   ]
  },
  {
   "cell_type": "markdown",
   "id": "1099b7e3",
   "metadata": {},
   "source": [
    "### **Objective**: \n",
    "Perform an A/B test to determine if a new webpage design (`Version B`) leads to a higher **click-through rate (CTR)** than the original (`Version A`).  "
   ]
  },
  {
   "cell_type": "markdown",
   "id": "57115b11",
   "metadata": {},
   "source": [
    "#### 📌 **Project Overview**  \n",
    "We’ll:  \n",
    "1. **Simulate** A/B test data (users & clicks).  \n",
    "2. **Analyze** the results using statistical tests.  \n",
    "3. **Conclude** whether `Version B` performs better.  \n",
    "\n"
   ]
  },
  {
   "cell_type": "markdown",
   "id": "b02d75f8",
   "metadata": {},
   "source": [
    "### **Problem Statement**  \n",
    "You are a data analyst at an e-commerce company. The team wants to test if a new webpage design (`Version B`) increases click-through rates (CTR) compared to the original (`Version A`).  \n",
    "\n",
    "### **Tasks**  \n",
    "1. **Simulate Data**:  \n",
    "   - Generate synthetic data for `Version A` (1000 visitors, 150 clicks) and `Version B` (1050 visitors, 180 clicks).  \n",
    "2. **Statistical Test**:  \n",
    "   - Perform a **Statistical Test** to compare CTRs.  \n",
    "3. **Interpretation**:  \n",
    "   - Determine if the difference is statistically significant (use α = 0.05).  \n",
    "4. **Visualization**:  \n",
    "   - Plot the CTRs for both versions using appropriate chart.  \n",
    "\n",
    "**Deliverables**:  \n",
    "- Code for simulation, testing, and visualization.  \n",
    "- Written conclusion (1–2 sentences) on whether `Version B` performs better.  "
   ]
  },
  {
   "cell_type": "markdown",
   "id": "c0fdd42c",
   "metadata": {},
   "source": [
    "#### 🛠 **Setup & Data Generation**  \n",
    "First, let’s create synthetic data for the experiment.  \n"
   ]
  },
  {
   "cell_type": "code",
   "execution_count": 103,
   "id": "fd3ceeb4",
   "metadata": {},
   "outputs": [],
   "source": [
    "### Import Libraries\n",
    "import numpy as np\n",
    "import pandas as pd\n",
    "from scipy import stats\n",
    "import matplotlib.pyplot as plt\n",
    "from sklearn.model_selection import train_test_split\n",
    "from scipy.stats import ttest_ind, norm, ks_2samp\n",
    "from statsmodels.stats.power import TTestIndPower\n",
    "from statsmodels.stats.proportion import proportions_ztest"
   ]
  },
  {
   "cell_type": "markdown",
   "id": "7471a52c",
   "metadata": {},
   "source": [
    "> Simulate User Data, We’ll assume:\n",
    "\n",
    "- Version A: 1000 visitors, 150 clicks.\n",
    "\n",
    "- Version B: 1050 visitors, 180 clicks."
   ]
  },
  {
   "cell_type": "code",
   "execution_count": 104,
   "id": "8f0b5265",
   "metadata": {},
   "outputs": [],
   "source": [
    "# Simulate data\n",
    "np.random.seed(42)\n",
    "visitors_a = 1000\n",
    "clicks_a = 150\n",
    "visitors_b = 1050\n",
    "clicks_b = 180"
   ]
  },
  {
   "cell_type": "code",
   "execution_count": 105,
   "id": "d0525eff",
   "metadata": {},
   "outputs": [],
   "source": [
    "# Generate Version A data (1000 visitors, 150 clicks)\n",
    "version_a = np.array([1] * 150 + [0] * (1000 - 150))  # 150 \"1\"s (clicks) + 850 \"0\"s (no clicks)\n",
    "np.random.shuffle(version_a)  # Randomize the order\n",
    "# Generate Version B data (1050 visitors, 180 clicks)\n",
    "version_b = np.array([1] * 180 + [0] * (1050 - 180))  # 180 \"1\"s + 870 \"0\"s\n",
    "np.random.shuffle(version_b)"
   ]
  },
  {
   "cell_type": "code",
   "execution_count": 106,
   "id": "a138ca8d-ef27-4831-9456-026c689cdcf1",
   "metadata": {},
   "outputs": [],
   "source": [
    "#CTR=(Number of clicks)/(Number of visitors)\n",
    "#1=User clicked, 0= User didn't click\n",
    "#For a we create an array with 150 1s(clicks) and 850 0s(no clicks)\n",
    "#For b we create an array with 180 1s(clicks) and 870 0s(no clicks)\n",
    "#We shuffle both arrays randomly(to simulate real user behaviour)"
   ]
  },
  {
   "cell_type": "code",
   "execution_count": 107,
   "id": "dd13ac58-17bc-4dc7-8491-ee309131d293",
   "metadata": {},
   "outputs": [],
   "source": [
    "# Combine into a DataFrame\n",
    "df = pd.DataFrame({\n",
    "    'Version': ['A'] * 1000 + ['B'] * 1050,\n",
    "    'Clicked': np.concatenate([version_a, version_b])\n",
    "})"
   ]
  },
  {
   "cell_type": "code",
   "execution_count": 108,
   "id": "cf52d29a-4a49-456d-8094-e4c7c880f425",
   "metadata": {},
   "outputs": [],
   "source": [
    "#np.concatenate combines two arrays into a single array along a specified axis. (here axis=0)"
   ]
  },
  {
   "cell_type": "code",
   "execution_count": 109,
   "id": "7b0e12ca-9b34-46d0-a9ed-3bd88285d266",
   "metadata": {},
   "outputs": [
    {
     "data": {
      "text/html": [
       "<div>\n",
       "<style scoped>\n",
       "    .dataframe tbody tr th:only-of-type {\n",
       "        vertical-align: middle;\n",
       "    }\n",
       "\n",
       "    .dataframe tbody tr th {\n",
       "        vertical-align: top;\n",
       "    }\n",
       "\n",
       "    .dataframe thead th {\n",
       "        text-align: right;\n",
       "    }\n",
       "</style>\n",
       "<table border=\"1\" class=\"dataframe\">\n",
       "  <thead>\n",
       "    <tr style=\"text-align: right;\">\n",
       "      <th></th>\n",
       "      <th>Version</th>\n",
       "      <th>Clicked</th>\n",
       "    </tr>\n",
       "  </thead>\n",
       "  <tbody>\n",
       "    <tr>\n",
       "      <th>0</th>\n",
       "      <td>A</td>\n",
       "      <td>0</td>\n",
       "    </tr>\n",
       "    <tr>\n",
       "      <th>1</th>\n",
       "      <td>A</td>\n",
       "      <td>0</td>\n",
       "    </tr>\n",
       "    <tr>\n",
       "      <th>2</th>\n",
       "      <td>A</td>\n",
       "      <td>0</td>\n",
       "    </tr>\n",
       "    <tr>\n",
       "      <th>3</th>\n",
       "      <td>A</td>\n",
       "      <td>0</td>\n",
       "    </tr>\n",
       "    <tr>\n",
       "      <th>4</th>\n",
       "      <td>A</td>\n",
       "      <td>0</td>\n",
       "    </tr>\n",
       "    <tr>\n",
       "      <th>...</th>\n",
       "      <td>...</td>\n",
       "      <td>...</td>\n",
       "    </tr>\n",
       "    <tr>\n",
       "      <th>2045</th>\n",
       "      <td>B</td>\n",
       "      <td>0</td>\n",
       "    </tr>\n",
       "    <tr>\n",
       "      <th>2046</th>\n",
       "      <td>B</td>\n",
       "      <td>0</td>\n",
       "    </tr>\n",
       "    <tr>\n",
       "      <th>2047</th>\n",
       "      <td>B</td>\n",
       "      <td>1</td>\n",
       "    </tr>\n",
       "    <tr>\n",
       "      <th>2048</th>\n",
       "      <td>B</td>\n",
       "      <td>0</td>\n",
       "    </tr>\n",
       "    <tr>\n",
       "      <th>2049</th>\n",
       "      <td>B</td>\n",
       "      <td>1</td>\n",
       "    </tr>\n",
       "  </tbody>\n",
       "</table>\n",
       "<p>2050 rows × 2 columns</p>\n",
       "</div>"
      ],
      "text/plain": [
       "     Version  Clicked\n",
       "0          A        0\n",
       "1          A        0\n",
       "2          A        0\n",
       "3          A        0\n",
       "4          A        0\n",
       "...      ...      ...\n",
       "2045       B        0\n",
       "2046       B        0\n",
       "2047       B        1\n",
       "2048       B        0\n",
       "2049       B        1\n",
       "\n",
       "[2050 rows x 2 columns]"
      ]
     },
     "execution_count": 109,
     "metadata": {},
     "output_type": "execute_result"
    }
   ],
   "source": [
    "df"
   ]
  },
  {
   "cell_type": "code",
   "execution_count": 110,
   "id": "91f2d879-5fb6-4296-82cd-a46a68b27a5b",
   "metadata": {},
   "outputs": [
    {
     "name": "stdout",
     "output_type": "stream",
     "text": [
      "0.3570714214271425 0.37688302737922624\n"
     ]
    }
   ],
   "source": [
    "# Calculate standard deviation\n",
    "std_a = np.std(version_a)\n",
    "std_b = np.std(version_b)\n",
    "print(std_a,std_b)"
   ]
  },
  {
   "cell_type": "markdown",
   "id": "b007477e",
   "metadata": {},
   "source": [
    "📊 Perform A/B Test\n",
    "We’ll use a Chi-Square Test to compare proportions.\n",
    "\n",
    "- Hypotheses"
   ]
  },
  {
   "cell_type": "code",
   "execution_count": 111,
   "id": "a7eabc3b-6105-4401-939b-545e5998f16a",
   "metadata": {},
   "outputs": [],
   "source": [
    "#You can use a Z-test to compare proportions (like CTR) if:\n",
    "#Your sample size is large (typically ≥ 30 per group), and\n",
    "#You know the standard deviation"
   ]
  },
  {
   "cell_type": "code",
   "execution_count": 112,
   "id": "7b10c736",
   "metadata": {},
   "outputs": [],
   "source": [
    "# Null Hypothesis (H₀): CTR_a=CTR_b\n",
    "# Alternative Hypothesis: CTR_a != CTR_b"
   ]
  },
  {
   "cell_type": "markdown",
   "id": "6f94acbe",
   "metadata": {},
   "source": [
    "\n",
    "- Run the Test"
   ]
  },
  {
   "cell_type": "code",
   "execution_count": 113,
   "id": "5b1fcda3",
   "metadata": {},
   "outputs": [
    {
     "data": {
      "text/plain": [
       "(np.float64(-1.3195206268862558), np.float64(0.18714260766783014))"
      ]
     },
     "execution_count": 113,
     "metadata": {},
     "output_type": "execute_result"
    }
   ],
   "source": [
    "t_stat, p_value = ttest_ind(version_a, version_b)\n",
    "t_stat, p_value"
   ]
  },
  {
   "cell_type": "code",
   "execution_count": 114,
   "id": "1661e520-a026-4120-a587-d0cd195a944e",
   "metadata": {},
   "outputs": [],
   "source": [
    "#Z-test (recommended for binary data and proportions)"
   ]
  },
  {
   "cell_type": "code",
   "execution_count": 115,
   "id": "7a292005-3b94-470c-8e9d-9fae9eb0807a",
   "metadata": {},
   "outputs": [
    {
     "data": {
      "text/plain": [
       "(np.float64(-1.3196039465145981), np.float64(0.1869672845487803))"
      ]
     },
     "execution_count": 115,
     "metadata": {},
     "output_type": "execute_result"
    }
   ],
   "source": [
    "clicks = [150, 180]       \n",
    "visitors = [1000, 1050]   \n",
    "z_stat, p_value = proportions_ztest(clicks, visitors, alternative='two-sided')\n",
    "z_stat, p_value"
   ]
  },
  {
   "cell_type": "markdown",
   "id": "c52bcea2",
   "metadata": {},
   "source": [
    "> Interpret Results"
   ]
  },
  {
   "cell_type": "code",
   "execution_count": 116,
   "id": "a2c7c16c",
   "metadata": {},
   "outputs": [
    {
     "name": "stdout",
     "output_type": "stream",
     "text": [
      "P-value: 0.1869672845487803\n",
      "There is not enough evidence to reject the null hypothesis. There is not a statistically significant difference between the CTR in Version A and Version B.\n"
     ]
    }
   ],
   "source": [
    "print(f\"P-value: {p_value}\")\n",
    "if p_value < 0.05:\n",
    "    print(\"There is enough evidence to reject the null hypothesis. There is a statistically significant difference between the CTR in Version A and Version B.\")\n",
    "else:\n",
    "    print(\"There is not enough evidence to reject the null hypothesis. There is not a statistically significant difference between the CTR in Version A and Version B.\")"
   ]
  },
  {
   "cell_type": "markdown",
   "id": "c925ed9f",
   "metadata": {},
   "source": [
    "📈 Visualization"
   ]
  },
  {
   "cell_type": "code",
   "execution_count": 117,
   "id": "94ca3b5a",
   "metadata": {},
   "outputs": [
    {
     "name": "stdout",
     "output_type": "stream",
     "text": [
      "0.15 0.17142857142857143\n"
     ]
    }
   ],
   "source": [
    "proportion_a=150/1000\n",
    "proportion_b=180/1050\n",
    "print(proportion_a,proportion_b)"
   ]
  },
  {
   "cell_type": "code",
   "execution_count": 118,
   "id": "477356b5-5c7d-4e0f-8669-d04628b536d0",
   "metadata": {},
   "outputs": [
    {
     "data": {
      "image/png": "[encoded data removed]",
      "text/plain": [
       "<Figure size 640x480 with 1 Axes>"
      ]
     },
     "metadata": {},
     "output_type": "display_data"
    }
   ],
   "source": [
    "plt.bar([\"Version A\", \"Version B\"],[proportion_a, proportion_b], color=[\"blue\", \"orange\"])\n",
    "plt.ylabel(\"Click-Through Rate (CTR)\")\n",
    "plt.title(\"CTR Comparison: Version A vs Version B\")\n",
    "plt.show()"
   ]
  },
  {
   "cell_type": "markdown",
   "id": "afdb44b2",
   "metadata": {},
   "source": [
    "## Challenge 2: 🚀 A/B Testing Challenge with Real Data"
   ]
  },
  {
   "cell_type": "markdown",
   "id": "67bd5560",
   "metadata": {},
   "source": [
    "#### **Objective**:  \n",
    "1. Analyze **real A/B test data** (from Kaggle) to compare conversion rates.  \n",
    "2. Use **bootstrapping** to estimate confidence intervals.  \n",
    "\n",
    "---\n",
    "\n",
    "#### 📌 **Project Overview**  \n",
    "We’ll:  \n",
    "1. **Load real A/B test data** (user sessions and conversions).  \n",
    "2. **Compare conversion rates** using statistical tests.  \n",
    "3. **Apply bootstrapping** to validate results.  \n",
    "\n"
   ]
  },
  {
   "cell_type": "markdown",
   "id": "ec536e52",
   "metadata": {},
   "source": [
    "### **Problem Statement**  \n",
    "Use the [Kaggle Marketing A/B Test dataset](https://www.kaggle.com/datasets/faviovaz/marketing-ab-testing) to analyze if a new marketing campaign (`Group B`) improves conversion rates over the old campaign (`Group A`).  \n",
    "\n",
    "### **Tasks**  \n",
    "1. **Data Preparation**:  \n",
    "   - Load the dataset and explore key metrics (sample sizes, conversion rates).  \n",
    "2. **Hypothesis Testing**:  \n",
    "   - Perform a **Statistical Test** to compare conversions between groups.  \n",
    "3. **Bootstrapping**:  \n",
    "   - Implement bootstrapping (`n=1000` resamples) to estimate 95% confidence intervals for conversion rates.  \n",
    "4. **Visualization**:  \n",
    "   -Compare conversion rates for both groups.  \n",
    "\n",
    "**Deliverables**:  \n",
    "- Code for analysis and bootstrapping.  \n",
    "- Answers:  \n",
    "  - P-value and statistical conclusion.  \n",
    "  - Confidence intervals for both groups.  "
   ]
  },
  {
   "cell_type": "markdown",
   "id": "812e92c7",
   "metadata": {},
   "source": [
    "#### 🛠 **Setup & Data Loading**  \n"
   ]
  },
  {
   "cell_type": "code",
   "execution_count": 119,
   "id": "a855dda5",
   "metadata": {},
   "outputs": [],
   "source": [
    "import numpy as np\n",
    "import pandas as pd\n",
    "from scipy import stats\n",
    "import matplotlib.pyplot as plt\n",
    "from sklearn.model_selection import train_test_split\n",
    "from scipy.stats import ttest_ind, norm, ks_2samp\n",
    "from statsmodels.stats.power import TTestIndPower\n",
    "from statsmodels.stats.proportion import proportions_ztest"
   ]
  },
  {
   "cell_type": "markdown",
   "id": "55a40acd",
   "metadata": {},
   "source": [
    "> Load Open-Source Dataset\n",
    "We’ll use the [\"A/B Test Results\"](https://www.kaggle.com/datasets/faviovaz/marketing-ab-testing) dataset from Kaggle."
   ]
  },
  {
   "cell_type": "code",
   "execution_count": 120,
   "id": "1824729f",
   "metadata": {},
   "outputs": [],
   "source": [
    "# Load data (ensure CSV is in your working directory)\n",
    "data = pd.read_csv(\"marketing_AB.csv\")  # Download from Kaggle first!"
   ]
  },
  {
   "cell_type": "code",
   "execution_count": 121,
   "id": "823b6d4b-d32a-424f-8918-da033c23728c",
   "metadata": {},
   "outputs": [
    {
     "data": {
      "text/html": [
       "<div>\n",
       "<style scoped>\n",
       "    .dataframe tbody tr th:only-of-type {\n",
       "        vertical-align: middle;\n",
       "    }\n",
       "\n",
       "    .dataframe tbody tr th {\n",
       "        vertical-align: top;\n",
       "    }\n",
       "\n",
       "    .dataframe thead th {\n",
       "        text-align: right;\n",
       "    }\n",
       "</style>\n",
       "<table border=\"1\" class=\"dataframe\">\n",
       "  <thead>\n",
       "    <tr style=\"text-align: right;\">\n",
       "      <th></th>\n",
       "      <th>Unnamed: 0</th>\n",
       "      <th>user id</th>\n",
       "      <th>test group</th>\n",
       "      <th>converted</th>\n",
       "      <th>total ads</th>\n",
       "      <th>most ads day</th>\n",
       "      <th>most ads hour</th>\n",
       "    </tr>\n",
       "  </thead>\n",
       "  <tbody>\n",
       "    <tr>\n",
       "      <th>0</th>\n",
       "      <td>0</td>\n",
       "      <td>1069124</td>\n",
       "      <td>ad</td>\n",
       "      <td>False</td>\n",
       "      <td>130</td>\n",
       "      <td>Monday</td>\n",
       "      <td>20</td>\n",
       "    </tr>\n",
       "    <tr>\n",
       "      <th>1</th>\n",
       "      <td>1</td>\n",
       "      <td>1119715</td>\n",
       "      <td>ad</td>\n",
       "      <td>False</td>\n",
       "      <td>93</td>\n",
       "      <td>Tuesday</td>\n",
       "      <td>22</td>\n",
       "    </tr>\n",
       "    <tr>\n",
       "      <th>2</th>\n",
       "      <td>2</td>\n",
       "      <td>1144181</td>\n",
       "      <td>ad</td>\n",
       "      <td>False</td>\n",
       "      <td>21</td>\n",
       "      <td>Tuesday</td>\n",
       "      <td>18</td>\n",
       "    </tr>\n",
       "    <tr>\n",
       "      <th>3</th>\n",
       "      <td>3</td>\n",
       "      <td>1435133</td>\n",
       "      <td>ad</td>\n",
       "      <td>False</td>\n",
       "      <td>355</td>\n",
       "      <td>Tuesday</td>\n",
       "      <td>10</td>\n",
       "    </tr>\n",
       "    <tr>\n",
       "      <th>4</th>\n",
       "      <td>4</td>\n",
       "      <td>1015700</td>\n",
       "      <td>ad</td>\n",
       "      <td>False</td>\n",
       "      <td>276</td>\n",
       "      <td>Friday</td>\n",
       "      <td>14</td>\n",
       "    </tr>\n",
       "    <tr>\n",
       "      <th>...</th>\n",
       "      <td>...</td>\n",
       "      <td>...</td>\n",
       "      <td>...</td>\n",
       "      <td>...</td>\n",
       "      <td>...</td>\n",
       "      <td>...</td>\n",
       "      <td>...</td>\n",
       "    </tr>\n",
       "    <tr>\n",
       "      <th>588096</th>\n",
       "      <td>588096</td>\n",
       "      <td>1278437</td>\n",
       "      <td>ad</td>\n",
       "      <td>False</td>\n",
       "      <td>1</td>\n",
       "      <td>Tuesday</td>\n",
       "      <td>23</td>\n",
       "    </tr>\n",
       "    <tr>\n",
       "      <th>588097</th>\n",
       "      <td>588097</td>\n",
       "      <td>1327975</td>\n",
       "      <td>ad</td>\n",
       "      <td>False</td>\n",
       "      <td>1</td>\n",
       "      <td>Tuesday</td>\n",
       "      <td>23</td>\n",
       "    </tr>\n",
       "    <tr>\n",
       "      <th>588098</th>\n",
       "      <td>588098</td>\n",
       "      <td>1038442</td>\n",
       "      <td>ad</td>\n",
       "      <td>False</td>\n",
       "      <td>3</td>\n",
       "      <td>Tuesday</td>\n",
       "      <td>23</td>\n",
       "    </tr>\n",
       "    <tr>\n",
       "      <th>588099</th>\n",
       "      <td>588099</td>\n",
       "      <td>1496395</td>\n",
       "      <td>ad</td>\n",
       "      <td>False</td>\n",
       "      <td>1</td>\n",
       "      <td>Tuesday</td>\n",
       "      <td>23</td>\n",
       "    </tr>\n",
       "    <tr>\n",
       "      <th>588100</th>\n",
       "      <td>588100</td>\n",
       "      <td>1237779</td>\n",
       "      <td>ad</td>\n",
       "      <td>False</td>\n",
       "      <td>1</td>\n",
       "      <td>Tuesday</td>\n",
       "      <td>23</td>\n",
       "    </tr>\n",
       "  </tbody>\n",
       "</table>\n",
       "<p>588101 rows × 7 columns</p>\n",
       "</div>"
      ],
      "text/plain": [
       "        Unnamed: 0  user id test group  converted  total ads most ads day  \\\n",
       "0                0  1069124         ad      False        130       Monday   \n",
       "1                1  1119715         ad      False         93      Tuesday   \n",
       "2                2  1144181         ad      False         21      Tuesday   \n",
       "3                3  1435133         ad      False        355      Tuesday   \n",
       "4                4  1015700         ad      False        276       Friday   \n",
       "...            ...      ...        ...        ...        ...          ...   \n",
       "588096      588096  1278437         ad      False          1      Tuesday   \n",
       "588097      588097  1327975         ad      False          1      Tuesday   \n",
       "588098      588098  1038442         ad      False          3      Tuesday   \n",
       "588099      588099  1496395         ad      False          1      Tuesday   \n",
       "588100      588100  1237779         ad      False          1      Tuesday   \n",
       "\n",
       "        most ads hour  \n",
       "0                  20  \n",
       "1                  22  \n",
       "2                  18  \n",
       "3                  10  \n",
       "4                  14  \n",
       "...               ...  \n",
       "588096             23  \n",
       "588097             23  \n",
       "588098             23  \n",
       "588099             23  \n",
       "588100             23  \n",
       "\n",
       "[588101 rows x 7 columns]"
      ]
     },
     "execution_count": 121,
     "metadata": {},
     "output_type": "execute_result"
    }
   ],
   "source": [
    "data"
   ]
  },
  {
   "cell_type": "markdown",
   "id": "16057220",
   "metadata": {},
   "source": [
    "📊 Part 1: Traditional A/B Test\n",
    "> Calculate Conversion Rates"
   ]
  },
  {
   "cell_type": "code",
   "execution_count": 122,
   "id": "02a84563-51a0-4e61-8845-0dcd201025fa",
   "metadata": {},
   "outputs": [],
   "source": [
    "data.columns = data.columns.str.replace(' ', '_')\n"
   ]
  },
  {
   "cell_type": "code",
   "execution_count": 123,
   "id": "a6018ff4-cc63-4993-9099-6c97d4f97b57",
   "metadata": {},
   "outputs": [
    {
     "data": {
      "text/html": [
       "<div>\n",
       "<style scoped>\n",
       "    .dataframe tbody tr th:only-of-type {\n",
       "        vertical-align: middle;\n",
       "    }\n",
       "\n",
       "    .dataframe tbody tr th {\n",
       "        vertical-align: top;\n",
       "    }\n",
       "\n",
       "    .dataframe thead th {\n",
       "        text-align: right;\n",
       "    }\n",
       "</style>\n",
       "<table border=\"1\" class=\"dataframe\">\n",
       "  <thead>\n",
       "    <tr style=\"text-align: right;\">\n",
       "      <th></th>\n",
       "      <th>Unnamed:_0</th>\n",
       "      <th>user_id</th>\n",
       "      <th>test_group</th>\n",
       "      <th>converted</th>\n",
       "      <th>total_ads</th>\n",
       "      <th>most_ads_day</th>\n",
       "      <th>most_ads_hour</th>\n",
       "    </tr>\n",
       "  </thead>\n",
       "  <tbody>\n",
       "    <tr>\n",
       "      <th>0</th>\n",
       "      <td>0</td>\n",
       "      <td>1069124</td>\n",
       "      <td>ad</td>\n",
       "      <td>False</td>\n",
       "      <td>130</td>\n",
       "      <td>Monday</td>\n",
       "      <td>20</td>\n",
       "    </tr>\n",
       "    <tr>\n",
       "      <th>1</th>\n",
       "      <td>1</td>\n",
       "      <td>1119715</td>\n",
       "      <td>ad</td>\n",
       "      <td>False</td>\n",
       "      <td>93</td>\n",
       "      <td>Tuesday</td>\n",
       "      <td>22</td>\n",
       "    </tr>\n",
       "    <tr>\n",
       "      <th>2</th>\n",
       "      <td>2</td>\n",
       "      <td>1144181</td>\n",
       "      <td>ad</td>\n",
       "      <td>False</td>\n",
       "      <td>21</td>\n",
       "      <td>Tuesday</td>\n",
       "      <td>18</td>\n",
       "    </tr>\n",
       "    <tr>\n",
       "      <th>3</th>\n",
       "      <td>3</td>\n",
       "      <td>1435133</td>\n",
       "      <td>ad</td>\n",
       "      <td>False</td>\n",
       "      <td>355</td>\n",
       "      <td>Tuesday</td>\n",
       "      <td>10</td>\n",
       "    </tr>\n",
       "    <tr>\n",
       "      <th>4</th>\n",
       "      <td>4</td>\n",
       "      <td>1015700</td>\n",
       "      <td>ad</td>\n",
       "      <td>False</td>\n",
       "      <td>276</td>\n",
       "      <td>Friday</td>\n",
       "      <td>14</td>\n",
       "    </tr>\n",
       "    <tr>\n",
       "      <th>...</th>\n",
       "      <td>...</td>\n",
       "      <td>...</td>\n",
       "      <td>...</td>\n",
       "      <td>...</td>\n",
       "      <td>...</td>\n",
       "      <td>...</td>\n",
       "      <td>...</td>\n",
       "    </tr>\n",
       "    <tr>\n",
       "      <th>588096</th>\n",
       "      <td>588096</td>\n",
       "      <td>1278437</td>\n",
       "      <td>ad</td>\n",
       "      <td>False</td>\n",
       "      <td>1</td>\n",
       "      <td>Tuesday</td>\n",
       "      <td>23</td>\n",
       "    </tr>\n",
       "    <tr>\n",
       "      <th>588097</th>\n",
       "      <td>588097</td>\n",
       "      <td>1327975</td>\n",
       "      <td>ad</td>\n",
       "      <td>False</td>\n",
       "      <td>1</td>\n",
       "      <td>Tuesday</td>\n",
       "      <td>23</td>\n",
       "    </tr>\n",
       "    <tr>\n",
       "      <th>588098</th>\n",
       "      <td>588098</td>\n",
       "      <td>1038442</td>\n",
       "      <td>ad</td>\n",
       "      <td>False</td>\n",
       "      <td>3</td>\n",
       "      <td>Tuesday</td>\n",
       "      <td>23</td>\n",
       "    </tr>\n",
       "    <tr>\n",
       "      <th>588099</th>\n",
       "      <td>588099</td>\n",
       "      <td>1496395</td>\n",
       "      <td>ad</td>\n",
       "      <td>False</td>\n",
       "      <td>1</td>\n",
       "      <td>Tuesday</td>\n",
       "      <td>23</td>\n",
       "    </tr>\n",
       "    <tr>\n",
       "      <th>588100</th>\n",
       "      <td>588100</td>\n",
       "      <td>1237779</td>\n",
       "      <td>ad</td>\n",
       "      <td>False</td>\n",
       "      <td>1</td>\n",
       "      <td>Tuesday</td>\n",
       "      <td>23</td>\n",
       "    </tr>\n",
       "  </tbody>\n",
       "</table>\n",
       "<p>588101 rows × 7 columns</p>\n",
       "</div>"
      ],
      "text/plain": [
       "        Unnamed:_0  user_id test_group  converted  total_ads most_ads_day  \\\n",
       "0                0  1069124         ad      False        130       Monday   \n",
       "1                1  1119715         ad      False         93      Tuesday   \n",
       "2                2  1144181         ad      False         21      Tuesday   \n",
       "3                3  1435133         ad      False        355      Tuesday   \n",
       "4                4  1015700         ad      False        276       Friday   \n",
       "...            ...      ...        ...        ...        ...          ...   \n",
       "588096      588096  1278437         ad      False          1      Tuesday   \n",
       "588097      588097  1327975         ad      False          1      Tuesday   \n",
       "588098      588098  1038442         ad      False          3      Tuesday   \n",
       "588099      588099  1496395         ad      False          1      Tuesday   \n",
       "588100      588100  1237779         ad      False          1      Tuesday   \n",
       "\n",
       "        most_ads_hour  \n",
       "0                  20  \n",
       "1                  22  \n",
       "2                  18  \n",
       "3                  10  \n",
       "4                  14  \n",
       "...               ...  \n",
       "588096             23  \n",
       "588097             23  \n",
       "588098             23  \n",
       "588099             23  \n",
       "588100             23  \n",
       "\n",
       "[588101 rows x 7 columns]"
      ]
     },
     "execution_count": 123,
     "metadata": {},
     "output_type": "execute_result"
    }
   ],
   "source": [
    "data"
   ]
  },
  {
   "cell_type": "code",
   "execution_count": 124,
   "id": "4f706dd9-2f8d-40ff-b2a7-cc7f6d3f02db",
   "metadata": {},
   "outputs": [
    {
     "data": {
      "text/plain": [
       "array(['ad', 'psa'], dtype=object)"
      ]
     },
     "execution_count": 124,
     "metadata": {},
     "output_type": "execute_result"
    }
   ],
   "source": [
    "data['test_group'].unique()"
   ]
  },
  {
   "cell_type": "code",
   "execution_count": 125,
   "id": "4e1f5ed2-cd6e-48b4-8d00-6f4962ef9101",
   "metadata": {},
   "outputs": [
    {
     "name": "stdout",
     "output_type": "stream",
     "text": [
      "\n",
      "Ad:\n",
      "- Total ads: 14014701\n",
      "- Ad Conversions: 14423\n",
      "\n",
      "PSA:\n",
      "- Total ads: 582481\n",
      "- Psa Conversions: 420\n",
      "\n"
     ]
    }
   ],
   "source": [
    "#Total number of ads and total conversions for ads and psa\n",
    "ad_number = data[data[\"test_group\"]==\"ad\"][\"total_ads\"].sum()\n",
    "psa_number = data[data[\"test_group\"]==\"psa\"][\"total_ads\"].sum()\n",
    "ad_converted_num = data[data[\"test_group\"]==\"ad\"][\"converted\"].sum()\n",
    "psa_converted_num = data[data[\"test_group\"]==\"psa\"][\"converted\"].sum()\n",
    "print(f\"\"\"\n",
    "Ad:\n",
    "- Total ads: {ad_number}\n",
    "- Ad Conversions: {ad_converted_num}\n",
    "\n",
    "PSA:\n",
    "- Total ads: {psa_number}\n",
    "- Psa Conversions: {psa_converted_num}\n",
    "\"\"\")"
   ]
  },
  {
   "cell_type": "markdown",
   "id": "a1321446",
   "metadata": {},
   "source": [
    "> Statistical Test"
   ]
  },
  {
   "cell_type": "code",
   "execution_count": 126,
   "id": "decf60de",
   "metadata": {},
   "outputs": [],
   "source": [
    "#test group: If \"ad\" the person saw the advertisement, if \"psa\" they only saw the public service announcement\n",
    "#converted: If a person bought the product then True, else is False\n"
   ]
  },
  {
   "cell_type": "code",
   "execution_count": 127,
   "id": "f4877c1e-f4c8-4746-945b-ca252180817d",
   "metadata": {},
   "outputs": [
    {
     "name": "stdout",
     "output_type": "stream",
     "text": [
      "test_group\n",
      "ad     2.55%\n",
      "psa    1.79%\n",
      "Name: converted, dtype: object\n"
     ]
    }
   ],
   "source": [
    "#Calculating conversion rates per User (The proportion of unique users who converted )\n",
    "conversion_rate_per_user = data.groupby('test_group')['converted'].mean()\n",
    "print((conversion_rate_per_user * 100).round(2).astype(str) + '%')"
   ]
  },
  {
   "cell_type": "code",
   "execution_count": 128,
   "id": "b992b7eb-324a-48f0-94ea-401a94fe4ed4",
   "metadata": {},
   "outputs": [],
   "source": [
    "#Statistical test\n",
    "#Null Hypothesis (H0): Conversion rate of ad = Conversion rate of psa\n",
    "#Alternative Hypothesis (H1): Conversion rate of ad != Conversion rate of psa"
   ]
  },
  {
   "cell_type": "code",
   "execution_count": 129,
   "id": "d3db2918-4de1-4e63-9834-c1fbff401f73",
   "metadata": {},
   "outputs": [
    {
     "name": "stdout",
     "output_type": "stream",
     "text": [
      "Z-statistic: 7.228637767350958\n",
      "P-value: 4.878627648760414e-13\n",
      "There is a significant difference between the two groups.\n"
     ]
    }
   ],
   "source": [
    "# Run Z-test\n",
    "converted_counts = [ad_converted_num, psa_converted_num]\n",
    "total_num = [ad_number, psa_number]\n",
    "z_stat, p_value = proportions_ztest(converted_counts, total_num, alternative='two-sided')\n",
    "print(f\"Z-statistic: {z_stat}\")\n",
    "print(f\"P-value: {p_value}\")\n",
    "\n",
    "# Interpretation\n",
    "if p_value < 0.05:\n",
    "    print(\"There is a significant difference between the two groups.\")\n",
    "else:\n",
    "    print(\"There is no significant difference between the two groups.\")"
   ]
  },
  {
   "cell_type": "code",
   "execution_count": 130,
   "id": "576815b0-f782-460a-8176-dd9f06188f12",
   "metadata": {},
   "outputs": [],
   "source": [
    "#The difference in conversion rates between the two groups is 7.23 standard deviations away from zero.\n",
    "#The probability of observing a difference this extreme if the null hypothesis were true (i.e., if there were no real difference) is virtually zero."
   ]
  },
  {
   "cell_type": "code",
   "execution_count": 131,
   "id": "5ce391eb-a5d0-4b5d-8d9a-127ebf208e96",
   "metadata": {},
   "outputs": [],
   "source": [
    "#Note: The two-proportion Z-test compares the conversion rates (or any proportions) between two groups."
   ]
  },
  {
   "cell_type": "markdown",
   "id": "7dd2ccd0",
   "metadata": {},
   "source": [
    "#### EXTRA 📈 Part 2: Bootstrapping Challenge\n",
    "**Why Bootstrapping?**\n",
    " - Bootstrapping helps estimate confidence intervals for conversion rates by resampling data.\n",
    "\n",
    "> Bootstrap Function"
   ]
  },
  {
   "cell_type": "markdown",
   "id": "e9015c19",
   "metadata": {},
   "source": [
    ">Visualize Resultsm"
   ]
  },
  {
   "cell_type": "code",
   "execution_count": 132,
   "id": "44980c9f-d5ba-4006-8bac-c44dfdf2db28",
   "metadata": {},
   "outputs": [
    {
     "name": "stdout",
     "output_type": "stream",
     "text": [
      "Confidence intervals per user for the Ads group: 2.51%, 2.60%\n",
      "Confidence intervals per user for the PSA group: 1.62%, 1.96%\n"
     ]
    }
   ],
   "source": [
    "def bootstrap_conversion_rates(data, n_resamples=1000):\n",
    "    # First split the data by group\n",
    "    ad_data = data[data['test_group'] == 'ad']['converted'].values\n",
    "    psa_data = data[data['test_group'] == 'psa']['converted'].values\n",
    "    \n",
    "    # Store results for each group\n",
    "    ad_means = []\n",
    "    psa_means = []\n",
    "    \n",
    "    for _ in range(n_resamples):  # \"_\" means we ignore the loop counter\n",
    "        # Resample each group separately\n",
    "        ad_sample = np.random.choice(ad_data, len(ad_data), replace=True)\n",
    "        psa_sample = np.random.choice(psa_data, len(psa_data), replace=True)\n",
    "        \n",
    "        # Calculate conversion rates (mean of 1s/0s)\n",
    "        ad_means.append(ad_sample.mean())\n",
    "        psa_means.append(psa_sample.mean())\n",
    "    \n",
    "    # Calculate 95% CIs\n",
    "    ad_ci = (np.percentile(ad_means, 2.5), np.percentile(ad_means, 97.5))\n",
    "    psa_ci = (np.percentile(psa_means, 2.5), np.percentile(psa_means, 97.5))\n",
    "    \n",
    "    return {'ad_ci': ad_ci, 'psa_ci': psa_ci}\n",
    "results = bootstrap_conversion_rates(data)\n",
    "print(f\"Confidence intervals per user for the Ads group: {results['ad_ci'][0]*100:.2f}%, {results['ad_ci'][1]*100:.2f}%\")\n",
    "print(f\"Confidence intervals per user for the PSA group: {results['psa_ci'][0]*100:.2f}%, {results['psa_ci'][1]*100:.2f}%\")"
   ]
  },
  {
   "cell_type": "markdown",
   "id": "f4e2aec7",
   "metadata": {},
   "source": [
    "## (Bonus) Challenge 3: 🎮 Advanced A/B Testing Challenge: Cookie Cats Retention Analysis "
   ]
  },
  {
   "cell_type": "markdown",
   "id": "aa0a8423",
   "metadata": {},
   "source": [
    "#### **Objective**:  \n",
    "1. Analyze player **retention rates** in the `cookie_cats` mobile game A/B test.  \n",
    "2. Implement **sequential testing** (to avoid peeking at results prematurely).  \n",
    "3. Conduct **power analysis** to determine optimal sample size.  \n",
    "\n",
    "### **Problem Statement**  \n",
    "Analyze the [Cookie Cats dataset](https://www.kaggle.com/datasets/yufengsui/mobile-games-ab-testing) to determine if moving the game’s first gate from level 30 (`gate_30`) to level 40 (`gate_40`) affects player retention.  \n",
    "\n",
    "### **Tasks**  \n",
    "1. **Retention Analysis**:  \n",
    "   - Compare **1-day retention rates** between `gate_30` and `gate_40` using a Z-test.  \n",
    "2. **Sequential Testing**:  \n",
    "   - Simulate checking results at intervals (every 500 users) to avoid \"peeking bias.\"  \n",
    "3. **Power Analysis**:  \n",
    "   - Calculate the required sample size to detect a 2% difference in retention (α = 0.05, power = 0.8).  \n",
    "4. **Optional**:  \n",
    "   - Repeat analysis for **7-day retention**.  \n",
    "\n",
    "**Deliverables**:  \n",
    "- Code for retention comparison, sequential testing, and power analysis.  \n",
    "- Written summary:  \n",
    "  - Does `gate_40` significantly impact retention?  \n",
    "  - How does sequential testing affect decision-making?  "
   ]
  },
  {
   "cell_type": "markdown",
   "id": "167d7506",
   "metadata": {},
   "source": [
    "\n",
    "\n",
    "### 🛠 **Setup & Data Loading**  \n"
   ]
  },
  {
   "cell_type": "code",
   "execution_count": 133,
   "id": "204f33c6",
   "metadata": {},
   "outputs": [],
   "source": [
    "# Import Libraries"
   ]
  },
  {
   "cell_type": "code",
   "execution_count": 134,
   "id": "9bf078ee",
   "metadata": {},
   "outputs": [],
   "source": [
    "# Load dataset \n",
    "data = pd.read_csv(\"./data/cookie_cats.csv\")  # Columns: userid, version, sum_gamerounds, retention_1, retention_7"
   ]
  },
  {
   "cell_type": "markdown",
   "id": "2ea7a8be",
   "metadata": {},
   "source": []
  },
  {
   "cell_type": "markdown",
   "id": "edcbe2d5",
   "metadata": {},
   "source": [
    "📊 Part 1: Retention Rate Analysis\n",
    "> Compare 1-Day Retention"
   ]
  },
  {
   "cell_type": "code",
   "execution_count": 135,
   "id": "25577893",
   "metadata": {},
   "outputs": [],
   "source": [
    "# TODO\n",
    "# Insert your code HERE"
   ]
  },
  {
   "cell_type": "markdown",
   "id": "d60c1de3",
   "metadata": {},
   "source": [
    "> Statistical Test"
   ]
  },
  {
   "cell_type": "code",
   "execution_count": 136,
   "id": "119db7c3",
   "metadata": {},
   "outputs": [],
   "source": [
    "# TODO\n",
    "# Insert your code HERE"
   ]
  },
  {
   "cell_type": "markdown",
   "id": "8033db00",
   "metadata": {},
   "source": []
  },
  {
   "cell_type": "markdown",
   "id": "4aad973a",
   "metadata": {},
   "source": [
    "📈 Part 2: Sequential Testing\n",
    ">  Why Sequential Testing?\n",
    "\n",
    "- Avoids \"peeking\" at results prematurely by checking at intervals."
   ]
  },
  {
   "cell_type": "code",
   "execution_count": 137,
   "id": "04f99261",
   "metadata": {},
   "outputs": [],
   "source": [
    "# TODO\n",
    "# Insert your code HERE"
   ]
  },
  {
   "cell_type": "markdown",
   "id": "44abb17b",
   "metadata": {},
   "source": [
    "⚡ Part 3: Power Analysis\n",
    ">  Determine Required Sample Size"
   ]
  },
  {
   "cell_type": "code",
   "execution_count": 138,
   "id": "7906bad8",
   "metadata": {},
   "outputs": [],
   "source": [
    "# TODO\n",
    "# Insert your code HERE"
   ]
  },
  {
   "cell_type": "markdown",
   "id": "f62d1be7",
   "metadata": {},
   "source": [
    "Enjoy & Happy A/B Testing :) ......!"
   ]
  },
  {
   "cell_type": "markdown",
   "id": "43332a5a",
   "metadata": {},
   "source": []
  },
  {
   "cell_type": "markdown",
   "id": "9bbc500f",
   "metadata": {},
   "source": []
  }
 ],
 "metadata": {
  "kernelspec": {
   "display_name": "Python 3",
   "language": "python",
   "name": "python3"
  },
  "language_info": {
   "codemirror_mode": {
    "name": "ipython",
    "version": 3
   },
   "file_extension": ".py",
   "mimetype": "text/x-python",
   "name": "python",
   "nbconvert_exporter": "python",
   "pygments_lexer": "ipython3",
   "version": "3.13.5"
  }
 },
 "nbformat": 4,
 "nbformat_minor": 5
}
